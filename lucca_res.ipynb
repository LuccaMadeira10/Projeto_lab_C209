{
 "cells": [
  {
   "cell_type": "code",
   "execution_count": 1,
   "metadata": {},
   "outputs": [],
   "source": [
    "import moviepy.editor as mpe\n",
    "import numpy as np\n",
    "import matplotlib.pyplot as plt\n",
    "from scipy.io import wavfile\n",
    "import sounddevice as sd\n",
    "from PIL import Image"
   ]
  },
  {
   "cell_type": "code",
   "execution_count": null,
   "metadata": {},
   "outputs": [],
   "source": [
    "# Gravar um video de si mesmo lendo o texto no arquivo anexo \n",
    "video = mpe.VideoFileClip(\"WIN_20241202_13_46_54_Pro.mp4\")\n",
    "video.ipython_display(width=480, maxduration=300)"
   ]
  },
  {
   "cell_type": "code",
   "execution_count": null,
   "metadata": {},
   "outputs": [],
   "source": [
    "#nverter a imagem, no eixo, a cada 20 segundo (escolhi alterar o eixo y)\n",
    "def espelha_em_y(pegar_frame, tempo):\n",
    "    frame = pegar_frame(tempo)\n",
    "\n",
    "    # Logica para inverter o video no eixo y\n",
    "    if int(tempo // 20) % 2 == 0:\n",
    "        return frame[::-1, :]\n",
    "    else:\n",
    "        return frame\n",
    "#Apos fazer a funcao, irei aplica-la em todo o video, e depois mostrar o video, conforme pede o ex\n",
    "video_em_relacao_y = video.fl(espelha_em_y)\n",
    "video_em_relacao_y.ipython_display(width=480, maxduration=400)"
   ]
  },
  {
   "cell_type": "code",
   "execution_count": null,
   "metadata": {},
   "outputs": [],
   "source": [
    "# Diminiur o som, de forma gradativa, a cada 30 segundos, de forma que os últimos 10 segundos fique em silêncio (sem som)\n",
    "#funcao para reduzir o som\n",
    "def reducao_ate_sem_som(pegar_frame, tempo):\n",
    "    \n",
    "    # para  ter a duracao total do video\n",
    "    duracao_video = video.duration\n",
    "\n",
    "    #Aqui estou pegando o valor maximo do video, que e o 100% ou 1\n",
    "    fator_de_duracao = np.ones_like(tempo)\n",
    "\n",
    "    #Apos varias pesquisas, vi que o video pode ser considerado como um vetor de imagens\n",
    "    #Com isso, passar o parametro tempo de forma direta, acarretaria em erro, por possuir apenas um valor\n",
    "    #Sendo assim, a melhor decisao foi: para cada condicao, eu atribuiria uma mascara\n",
    "\n",
    "    #Primeira mascara\n",
    "    mascara1 = tempo < 150\n",
    "    fator_de_duracao[mascara1] = 1 - (tempo[mascara1] // 30) * 0.2 #Reduz gradualmente o volume: a cada 30 segundos, diminui o volume em 20% \n",
    "\n",
    "    #Segunda mascara\n",
    "    mascara2 = tempo > 150\n",
    "    fator_de_duracao[mascara2] = np.maximum(0, 1 - (tempo[mascara2] - 150) / 10) #O volume é reduzido linearmente conforme o tempo aumenta além de 150 segundos.\n",
    "    \n",
    "    return pegar_frame(tempo) * fator_de_duracao[:, np.newaxis]\n",
    "\n",
    "#Feito isso, vou varrer todo o video com a funcao fl, substituir o audio original e salvar o audio\n",
    "    \n",
    "audio_definido = video.audio.set_fps(44100).fl(reducao_ate_sem_som)\n",
    "\n",
    "video_definido_novo = video.set_audio(audio_definido)\n",
    "\n",
    "video_definido_novo.write_videofile(\"video_editado.mp4\", codec=\"libx264\", audio_codec=\"aac\")"
   ]
  },
  {
   "cell_type": "code",
   "execution_count": null,
   "metadata": {},
   "outputs": [],
   "source": [
    "#Após o primeiro minuto, 60 segundos, fazer um corte para o segundo 80 \n",
    "#  Por fim, insira os 20 segundos cortados acima no fim do video \n",
    "#Primeiramente, dividi o video em 3 etapas:\n",
    "# De (0 a 60), de (60,80) e depois ate 80 que e ate o final do video  (dividindo em subclips)\n",
    "\n",
    "_videoc1 = video.subclip(0,60)\n",
    "_videoc2 = video.subclip(60,80)\n",
    "_videoc3 = video.subclip(80)\n",
    "\n",
    "#Aqui, usei a funcao de concatenacao para juntar os 3 videos, na ordem estimulada pelo trabalho\n",
    "#E por fim, carreguei o video e depois salvei como \"video_carregado\"\n",
    "\n",
    "_videoc4 = mpe.concatenate_videoclips([_videoc1, _videoc3, _videoc2])\n",
    "_videoc4.ipython_display(width=480, maxduration=600) #Exibe o vídeo concatenado\n",
    "_videoc4.write_videofile(\"video_carregado_shrek.mp4\",codec=\"libx264\", audio_codec=\"aac\" )"
   ]
  }
 ],
 "metadata": {
  "kernelspec": {
   "display_name": "Python 3",
   "language": "python",
   "name": "python3"
  },
  "language_info": {
   "codemirror_mode": {
    "name": "ipython",
    "version": 3
   },
   "file_extension": ".py",
   "mimetype": "text/x-python",
   "name": "python",
   "nbconvert_exporter": "python",
   "pygments_lexer": "ipython3",
   "version": "3.12.7"
  }
 },
 "nbformat": 4,
 "nbformat_minor": 2
}
